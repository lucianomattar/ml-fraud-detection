{
  "nbformat": 4,
  "nbformat_minor": 0,
  "metadata": {
    "colab": {
      "provenance": [],
      "collapsed_sections": [],
      "authorship_tag": "ABX9TyM8qj+RbksniipEf6HeCFd4",
      "include_colab_link": true
    },
    "kernelspec": {
      "name": "python3",
      "display_name": "Python 3"
    },
    "language_info": {
      "name": "python"
    }
  },
  "cells": [
    {
      "cell_type": "markdown",
      "metadata": {
        "id": "view-in-github",
        "colab_type": "text"
      },
      "source": [
        "<a href=\"https://colab.research.google.com/github/lucianomattar/ml-fraud-detection/blob/main/credit%20card%20frau%20detection%20ml.ipynb\" target=\"_parent\"><img src=\"https://colab.research.google.com/assets/colab-badge.svg\" alt=\"Open In Colab\"/></a>"
      ]
    },
    {
      "cell_type": "markdown",
      "source": [
        "### Desafio final bootcamp arquiteto machine learning igti xpeducação"
      ],
      "metadata": {
        "id": "iLladj9Oj-u6"
      }
    },
    {
      "cell_type": "code",
      "execution_count": null,
      "metadata": {
        "id": "TEw8rej8dFx_"
      },
      "outputs": [],
      "source": [
        "import pandas as pd\n",
        "import numpy as np\n",
        "import matplotlib.pyplot as plt\n",
        "import io\n",
        "from sklearn.cluster import KMeans\n",
        "from google.colab import files\n",
        "from sklearn.preprocessing import StandardScaler\n",
        "from sklearn.model_selection import train_test_split\n",
        "from sklearn.linear_model import LogisticRegression\n",
        "from sklearn.neural_network import MLPClassifier\n",
        "from sklearn.metrics import classification_report, confusion_matrix"
      ]
    },
    {
      "cell_type": "code",
      "source": [
        "#download\n",
        "#https://drive.google.com/file/d/1s_bSWBT_e5RzfzD7-x-Db0AZByyD3Xsv/view?usp=sharing\n",
        "\n",
        "files.upload()\n",
        "df = pd.read_csv(\"creditcard.csv\") "
      ],
      "metadata": {
        "id": "fbnPzvGVfTAk"
      },
      "execution_count": null,
      "outputs": []
    },
    {
      "cell_type": "code",
      "execution_count": null,
      "metadata": {
        "id": "ji_N2IVYfYsU"
      },
      "outputs": [],
      "source": [
        "df.head()"
      ]
    },
    {
      "cell_type": "code",
      "source": [
        "#dataframe para descritivas sem normalização\n",
        "dfDesc = df"
      ],
      "metadata": {
        "id": "Vw5lpKBX8oVH"
      },
      "execution_count": null,
      "outputs": []
    },
    {
      "cell_type": "code",
      "source": [
        "#descritivas\n",
        "dfDesc.describe()"
      ],
      "metadata": {
        "id": "oe7_1i9W8tdr"
      },
      "execution_count": null,
      "outputs": []
    },
    {
      "cell_type": "code",
      "source": [
        "dfCT = dfDesc.loc[dfDesc['Time'] == dfDesc.Time.max()]\n",
        "pd.crosstab(dfCT.Time, dfCT.Class)"
      ],
      "metadata": {
        "id": "fFGzGM6N9STk"
      },
      "execution_count": null,
      "outputs": []
    },
    {
      "cell_type": "code",
      "source": [
        "dfCT = dfDesc.loc[dfDesc['V3'] == dfDesc.V3.max()]\n",
        "pd.crosstab(dfCT.V3, dfCT.Class)"
      ],
      "metadata": {
        "id": "_mS3VBTmALQl"
      },
      "execution_count": null,
      "outputs": []
    },
    {
      "cell_type": "code",
      "source": [
        "dfCT = dfDesc.loc[dfDesc['V1'] == dfDesc.V1.max()]\n",
        "pd.crosstab(dfCT.V1, dfCT.Class)"
      ],
      "metadata": {
        "id": "A5a2qlvTAiiD"
      },
      "execution_count": null,
      "outputs": []
    },
    {
      "cell_type": "code",
      "source": [
        "#normalização\n",
        "scaler = StandardScaler()\n",
        "df = pd.DataFrame(scaler.fit_transform(df), columns = df.columns)"
      ],
      "metadata": {
        "id": "ZWKAIS072D_g"
      },
      "execution_count": null,
      "outputs": []
    },
    {
      "cell_type": "code",
      "source": [
        "#descritivas\n",
        "df.describe()"
      ],
      "metadata": {
        "id": "ZafOT5yya5Pg"
      },
      "execution_count": null,
      "outputs": []
    },
    {
      "cell_type": "code",
      "source": [
        "count = df['Class'].value_counts()\n",
        "print(count)"
      ],
      "metadata": {
        "id": "1kj2AWwP31A1"
      },
      "execution_count": null,
      "outputs": []
    },
    {
      "cell_type": "code",
      "source": [
        "df['Class'] = np.where(df['Class']>=1, 1, 0)"
      ],
      "metadata": {
        "id": "o5Le9z5o4-HH"
      },
      "execution_count": null,
      "outputs": []
    },
    {
      "cell_type": "code",
      "source": [
        "count = df['Class'].value_counts()\n",
        "print(count)"
      ],
      "metadata": {
        "id": "YaEEfpWa5T_T"
      },
      "execution_count": null,
      "outputs": []
    },
    {
      "cell_type": "markdown",
      "source": [
        "Testes"
      ],
      "metadata": {
        "id": "g6WEkwdIiMTx"
      }
    },
    {
      "cell_type": "code",
      "source": [
        "#kmeans\n",
        "kmeans = KMeans(n_clusters=4, random_state=42)\n",
        "kmeans.fit(dfDesc)\n",
        "\n",
        "np.unique(kmeans.labels_)\n",
        "\n",
        "dfDesc.loc[:,\"cluster\"] = kmeans.labels_\n",
        "\n",
        "count = dfDesc['cluster'].value_counts()\n",
        "print(count)\n",
        "\n",
        "pd.crosstab(dfDesc.Class, dfDesc.cluster)"
      ],
      "metadata": {
        "id": "CAp_YoHgFzYb"
      },
      "execution_count": null,
      "outputs": []
    },
    {
      "cell_type": "code",
      "source": [
        "#identificando os valores de entradas e saida para a subamostragem\n",
        "entradas=df[['V1', 'V2', 'V3', 'V4', 'V5', 'V6', 'V7', 'V8', 'V9', 'V10', 'V11',\n",
        "'V12', 'V13', 'V14', 'V15', 'V16', 'V17', 'V18', 'V19', 'V20', 'V21',\n",
        "'V22', 'V23', 'V24', 'V25', 'V26', 'V27', 'V28',\n",
        "'Amount', 'Time']]\n",
        "saida=df[['Class']]"
      ],
      "metadata": {
        "id": "fsI2gTLsiOZG"
      },
      "execution_count": null,
      "outputs": []
    },
    {
      "cell_type": "code",
      "source": [
        "#dividir teste treino\n",
        "X_train, X_test, y_train, y_test = train_test_split(entradas, saida['Class'], test_size = 0.3, random_state = 42)"
      ],
      "metadata": {
        "id": "TzU69fEKirn2"
      },
      "execution_count": null,
      "outputs": []
    },
    {
      "cell_type": "code",
      "source": [
        "#regressão logística\n",
        "lr = LogisticRegression(max_iter=1000, random_state=42)\n",
        "\n",
        "fit = lr.fit(X_train, y_train)\n",
        "print(fit)\n",
        "\n",
        "predict = lr.predict(X_test)\n",
        "print(predict)\n",
        "\n",
        "score = lr.score(X_test, y_test)\n",
        "print(score)"
      ],
      "metadata": {
        "id": "iauBuuJkiXVt"
      },
      "execution_count": null,
      "outputs": []
    },
    {
      "cell_type": "code",
      "source": [
        "#Multi-layer Perceptron (MLP) \n",
        "mlp = MLPClassifier(alpha=0.001, hidden_layer_sizes=(10,), activation='relu', solver='adam', random_state=1, max_iter=1000)\n",
        "\n",
        "fit = mlp.fit(X_train, y_train)\n",
        "print(fit)\n",
        "\n",
        "mlp.predict(X_test)\n",
        "print(predict)\n",
        "\n",
        "score = mlp.score(X_test, y_test)\n",
        "print(score)"
      ],
      "metadata": {
        "id": "AwxMNrVMigoO"
      },
      "execution_count": null,
      "outputs": []
    },
    {
      "cell_type": "markdown",
      "source": [
        "Subamostragem"
      ],
      "metadata": {
        "id": "NAuQSJIviIhy"
      }
    },
    {
      "cell_type": "code",
      "source": [
        "# encontrando o número de instâncias da classe 1\n",
        "n_fraude = len (df[df.Class==1])\n",
        "indices_fraude = np.array (df[df.Class==1].index)\n",
        "indices_sem_fraude=np.array (df[df.Class==0].index)"
      ],
      "metadata": {
        "id": "up4MYMbugVdl"
      },
      "execution_count": null,
      "outputs": []
    },
    {
      "cell_type": "code",
      "source": [
        "#escolhendo indices aleatórios para os dados normais. Selecionando a mesma quantidade de\n",
        "#dados para as transações fraudulentas\n",
        "np.random.seed(0)\n",
        "escolha_sem_fraude = np.random.choice (indices_sem_fraude, n_fraude, replace = False )"
      ],
      "metadata": {
        "id": "L-y1W756haI0"
      },
      "execution_count": null,
      "outputs": []
    },
    {
      "cell_type": "code",
      "source": [
        "#selecionando a quantidade de dados por meio dos indices\n",
        "indices_subamostragem=np.concatenate([indices_fraude,escolha_sem_fraude],axis=None)"
      ],
      "metadata": {
        "id": "PdOKUh42hwjD"
      },
      "execution_count": null,
      "outputs": []
    },
    {
      "cell_type": "code",
      "source": [
        "#escolhendo os dados por meio dos indices escolhidos\n",
        "dados_subamostrados = df.iloc[indices_subamostragem,:]"
      ],
      "metadata": {
        "id": "d70HaoDOh1Cj"
      },
      "execution_count": null,
      "outputs": []
    },
    {
      "cell_type": "code",
      "source": [
        "#identificando os valores de entradas e saida para a subamostragem\n",
        "entradas_sa=dados_subamostrados[['V1', 'V2', 'V3', 'V4', 'V5', 'V6', 'V7', 'V8', 'V9', 'V10', 'V11',\n",
        "'V12', 'V13', 'V14', 'V15', 'V16', 'V17', 'V18', 'V19', 'V20', 'V21',\n",
        "'V22', 'V23', 'V24', 'V25', 'V26', 'V27', 'V28',\n",
        "'Amount', 'Time']]\n",
        "saida_sa=dados_subamostrados[['Class']]"
      ],
      "metadata": {
        "id": "1azw9OtEV8Dz"
      },
      "execution_count": null,
      "outputs": []
    },
    {
      "cell_type": "markdown",
      "source": [
        "Testes com subamostragem"
      ],
      "metadata": {
        "id": "Z_wmI8WAiCkT"
      }
    },
    {
      "cell_type": "code",
      "source": [
        "#dividir teste treino\n",
        "X_train, X_test, y_train, y_test = train_test_split(entradas_sa, saida_sa['Class'], test_size = 0.3, random_state = 42)"
      ],
      "metadata": {
        "id": "395zuj78gC_z"
      },
      "execution_count": null,
      "outputs": []
    },
    {
      "cell_type": "code",
      "source": [
        "y_train"
      ],
      "metadata": {
        "id": "k2pcRqVKQwu9"
      },
      "execution_count": null,
      "outputs": []
    },
    {
      "cell_type": "code",
      "source": [
        "#contar fraudes dados de treinamento\n",
        "count = y_train.value_counts()\n",
        "print(count)"
      ],
      "metadata": {
        "id": "hQaGwCmGUHC9"
      },
      "execution_count": null,
      "outputs": []
    },
    {
      "cell_type": "code",
      "source": [
        "#regressão logística\n",
        "lr = LogisticRegression(max_iter=1000, random_state=42)\n",
        "\n",
        "fit = lr.fit(X_train, y_train)\n",
        "print(fit)\n",
        "\n",
        "predict = lr.predict(X_test)\n",
        "print(predict)\n",
        "\n",
        "score = lr.score(X_test, y_test)\n",
        "print(score)"
      ],
      "metadata": {
        "id": "e7uSFvj8j9hM"
      },
      "execution_count": null,
      "outputs": []
    },
    {
      "cell_type": "code",
      "source": [
        "#recall reg logística\n",
        "print(classification_report(y_test, lr.predict(X_test)))"
      ],
      "metadata": {
        "id": "4i-UCATTXtrj"
      },
      "execution_count": null,
      "outputs": []
    },
    {
      "cell_type": "code",
      "source": [
        "#Multi-layer Perceptron (MLP) \n",
        "mlp = MLPClassifier(alpha=0.001, hidden_layer_sizes=(10,), activation='relu', solver='adam', random_state=1, max_iter=3000)\n",
        "\n",
        "fit = mlp.fit(X_train, y_train)\n",
        "print(fit)\n",
        "\n",
        "mlp.predict(X_test)\n",
        "print(predict)\n",
        "\n",
        "score = mlp.score(X_test, y_test)\n",
        "print(score)\n"
      ],
      "metadata": {
        "id": "cOHJJ5fvkCmv"
      },
      "execution_count": null,
      "outputs": []
    }
  ]
}
